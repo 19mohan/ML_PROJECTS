{
 "cells": [
  {
   "cell_type": "code",
   "execution_count": 4,
   "id": "6c422d82",
   "metadata": {},
   "outputs": [],
   "source": [
    "import os\n",
    "import numpy as np\n",
    "import pandas as pd\n",
    "import matplotlib.pyplot as plt\n",
    "import seaborn as sns\n",
    "import warnings\n",
    "warnings.filterwarnings('ignore')\n",
    "sns.set()\n",
    "%matplotlib inline"
   ]
  },
  {
   "cell_type": "code",
   "execution_count": 2,
   "id": "585aa35f",
   "metadata": {},
   "outputs": [
    {
     "data": {
      "text/html": [
       "<div>\n",
       "<style scoped>\n",
       "    .dataframe tbody tr th:only-of-type {\n",
       "        vertical-align: middle;\n",
       "    }\n",
       "\n",
       "    .dataframe tbody tr th {\n",
       "        vertical-align: top;\n",
       "    }\n",
       "\n",
       "    .dataframe thead th {\n",
       "        text-align: right;\n",
       "    }\n",
       "</style>\n",
       "<table border=\"1\" class=\"dataframe\">\n",
       "  <thead>\n",
       "    <tr style=\"text-align: right;\">\n",
       "      <th></th>\n",
       "      <th>WTT</th>\n",
       "      <th>PTI</th>\n",
       "      <th>EQW</th>\n",
       "      <th>SBI</th>\n",
       "      <th>LQE</th>\n",
       "      <th>QWG</th>\n",
       "      <th>FDJ</th>\n",
       "      <th>PJF</th>\n",
       "      <th>HQE</th>\n",
       "      <th>NXJ</th>\n",
       "      <th>TARGET CLASS</th>\n",
       "    </tr>\n",
       "  </thead>\n",
       "  <tbody>\n",
       "    <tr>\n",
       "      <th>0</th>\n",
       "      <td>0.913917</td>\n",
       "      <td>1.162073</td>\n",
       "      <td>0.567946</td>\n",
       "      <td>0.755464</td>\n",
       "      <td>0.780862</td>\n",
       "      <td>0.352608</td>\n",
       "      <td>0.759697</td>\n",
       "      <td>0.643798</td>\n",
       "      <td>0.879422</td>\n",
       "      <td>1.231409</td>\n",
       "      <td>1</td>\n",
       "    </tr>\n",
       "    <tr>\n",
       "      <th>1</th>\n",
       "      <td>0.635632</td>\n",
       "      <td>1.003722</td>\n",
       "      <td>0.535342</td>\n",
       "      <td>0.825645</td>\n",
       "      <td>0.924109</td>\n",
       "      <td>0.648450</td>\n",
       "      <td>0.675334</td>\n",
       "      <td>1.013546</td>\n",
       "      <td>0.621552</td>\n",
       "      <td>1.492702</td>\n",
       "      <td>0</td>\n",
       "    </tr>\n",
       "    <tr>\n",
       "      <th>2</th>\n",
       "      <td>0.721360</td>\n",
       "      <td>1.201493</td>\n",
       "      <td>0.921990</td>\n",
       "      <td>0.855595</td>\n",
       "      <td>1.526629</td>\n",
       "      <td>0.720781</td>\n",
       "      <td>1.626351</td>\n",
       "      <td>1.154483</td>\n",
       "      <td>0.957877</td>\n",
       "      <td>1.285597</td>\n",
       "      <td>0</td>\n",
       "    </tr>\n",
       "    <tr>\n",
       "      <th>3</th>\n",
       "      <td>1.234204</td>\n",
       "      <td>1.386726</td>\n",
       "      <td>0.653046</td>\n",
       "      <td>0.825624</td>\n",
       "      <td>1.142504</td>\n",
       "      <td>0.875128</td>\n",
       "      <td>1.409708</td>\n",
       "      <td>1.380003</td>\n",
       "      <td>1.522692</td>\n",
       "      <td>1.153093</td>\n",
       "      <td>1</td>\n",
       "    </tr>\n",
       "    <tr>\n",
       "      <th>4</th>\n",
       "      <td>1.279491</td>\n",
       "      <td>0.949750</td>\n",
       "      <td>0.627280</td>\n",
       "      <td>0.668976</td>\n",
       "      <td>1.232537</td>\n",
       "      <td>0.703727</td>\n",
       "      <td>1.115596</td>\n",
       "      <td>0.646691</td>\n",
       "      <td>1.463812</td>\n",
       "      <td>1.419167</td>\n",
       "      <td>1</td>\n",
       "    </tr>\n",
       "  </tbody>\n",
       "</table>\n",
       "</div>"
      ],
      "text/plain": [
       "        WTT       PTI       EQW       SBI       LQE       QWG       FDJ  \\\n",
       "0  0.913917  1.162073  0.567946  0.755464  0.780862  0.352608  0.759697   \n",
       "1  0.635632  1.003722  0.535342  0.825645  0.924109  0.648450  0.675334   \n",
       "2  0.721360  1.201493  0.921990  0.855595  1.526629  0.720781  1.626351   \n",
       "3  1.234204  1.386726  0.653046  0.825624  1.142504  0.875128  1.409708   \n",
       "4  1.279491  0.949750  0.627280  0.668976  1.232537  0.703727  1.115596   \n",
       "\n",
       "        PJF       HQE       NXJ  TARGET CLASS  \n",
       "0  0.643798  0.879422  1.231409             1  \n",
       "1  1.013546  0.621552  1.492702             0  \n",
       "2  1.154483  0.957877  1.285597             0  \n",
       "3  1.380003  1.522692  1.153093             1  \n",
       "4  0.646691  1.463812  1.419167             1  "
      ]
     },
     "execution_count": 2,
     "metadata": {},
     "output_type": "execute_result"
    }
   ],
   "source": [
    "dataset = pd.read_csv('Dataset/Classified Data' , index_col = 0)\n",
    "dataset.head()"
   ]
  },
  {
   "cell_type": "code",
   "execution_count": 3,
   "id": "dd60bc67",
   "metadata": {},
   "outputs": [
    {
     "name": "stdout",
     "output_type": "stream",
     "text": [
      "<class 'pandas.core.frame.DataFrame'>\n",
      "Index: 1000 entries, 0 to 999\n",
      "Data columns (total 11 columns):\n",
      " #   Column        Non-Null Count  Dtype  \n",
      "---  ------        --------------  -----  \n",
      " 0   WTT           1000 non-null   float64\n",
      " 1   PTI           1000 non-null   float64\n",
      " 2   EQW           1000 non-null   float64\n",
      " 3   SBI           1000 non-null   float64\n",
      " 4   LQE           1000 non-null   float64\n",
      " 5   QWG           1000 non-null   float64\n",
      " 6   FDJ           1000 non-null   float64\n",
      " 7   PJF           1000 non-null   float64\n",
      " 8   HQE           1000 non-null   float64\n",
      " 9   NXJ           1000 non-null   float64\n",
      " 10  TARGET CLASS  1000 non-null   int64  \n",
      "dtypes: float64(10), int64(1)\n",
      "memory usage: 93.8 KB\n"
     ]
    }
   ],
   "source": [
    "dataset.info()"
   ]
  },
  {
   "cell_type": "code",
   "execution_count": 4,
   "id": "59a9e08d",
   "metadata": {},
   "outputs": [
    {
     "data": {
      "text/html": [
       "<div>\n",
       "<style scoped>\n",
       "    .dataframe tbody tr th:only-of-type {\n",
       "        vertical-align: middle;\n",
       "    }\n",
       "\n",
       "    .dataframe tbody tr th {\n",
       "        vertical-align: top;\n",
       "    }\n",
       "\n",
       "    .dataframe thead th {\n",
       "        text-align: right;\n",
       "    }\n",
       "</style>\n",
       "<table border=\"1\" class=\"dataframe\">\n",
       "  <thead>\n",
       "    <tr style=\"text-align: right;\">\n",
       "      <th></th>\n",
       "      <th>WTT</th>\n",
       "      <th>PTI</th>\n",
       "      <th>EQW</th>\n",
       "      <th>SBI</th>\n",
       "      <th>LQE</th>\n",
       "      <th>QWG</th>\n",
       "      <th>FDJ</th>\n",
       "      <th>PJF</th>\n",
       "      <th>HQE</th>\n",
       "      <th>NXJ</th>\n",
       "      <th>TARGET CLASS</th>\n",
       "    </tr>\n",
       "  </thead>\n",
       "  <tbody>\n",
       "    <tr>\n",
       "      <th>count</th>\n",
       "      <td>1000.000000</td>\n",
       "      <td>1000.000000</td>\n",
       "      <td>1000.000000</td>\n",
       "      <td>1000.000000</td>\n",
       "      <td>1000.000000</td>\n",
       "      <td>1000.000000</td>\n",
       "      <td>1000.000000</td>\n",
       "      <td>1000.000000</td>\n",
       "      <td>1000.000000</td>\n",
       "      <td>1000.000000</td>\n",
       "      <td>1000.00000</td>\n",
       "    </tr>\n",
       "    <tr>\n",
       "      <th>mean</th>\n",
       "      <td>0.949682</td>\n",
       "      <td>1.114303</td>\n",
       "      <td>0.834127</td>\n",
       "      <td>0.682099</td>\n",
       "      <td>1.032336</td>\n",
       "      <td>0.943534</td>\n",
       "      <td>0.963422</td>\n",
       "      <td>1.071960</td>\n",
       "      <td>1.158251</td>\n",
       "      <td>1.362725</td>\n",
       "      <td>0.50000</td>\n",
       "    </tr>\n",
       "    <tr>\n",
       "      <th>std</th>\n",
       "      <td>0.289635</td>\n",
       "      <td>0.257085</td>\n",
       "      <td>0.291554</td>\n",
       "      <td>0.229645</td>\n",
       "      <td>0.243413</td>\n",
       "      <td>0.256121</td>\n",
       "      <td>0.255118</td>\n",
       "      <td>0.288982</td>\n",
       "      <td>0.293738</td>\n",
       "      <td>0.204225</td>\n",
       "      <td>0.50025</td>\n",
       "    </tr>\n",
       "    <tr>\n",
       "      <th>min</th>\n",
       "      <td>0.174412</td>\n",
       "      <td>0.441398</td>\n",
       "      <td>0.170924</td>\n",
       "      <td>0.045027</td>\n",
       "      <td>0.315307</td>\n",
       "      <td>0.262389</td>\n",
       "      <td>0.295228</td>\n",
       "      <td>0.299476</td>\n",
       "      <td>0.365157</td>\n",
       "      <td>0.639693</td>\n",
       "      <td>0.00000</td>\n",
       "    </tr>\n",
       "    <tr>\n",
       "      <th>25%</th>\n",
       "      <td>0.742358</td>\n",
       "      <td>0.942071</td>\n",
       "      <td>0.615451</td>\n",
       "      <td>0.515010</td>\n",
       "      <td>0.870855</td>\n",
       "      <td>0.761064</td>\n",
       "      <td>0.784407</td>\n",
       "      <td>0.866306</td>\n",
       "      <td>0.934340</td>\n",
       "      <td>1.222623</td>\n",
       "      <td>0.00000</td>\n",
       "    </tr>\n",
       "    <tr>\n",
       "      <th>50%</th>\n",
       "      <td>0.940475</td>\n",
       "      <td>1.118486</td>\n",
       "      <td>0.813264</td>\n",
       "      <td>0.676835</td>\n",
       "      <td>1.035824</td>\n",
       "      <td>0.941502</td>\n",
       "      <td>0.945333</td>\n",
       "      <td>1.065500</td>\n",
       "      <td>1.165556</td>\n",
       "      <td>1.375368</td>\n",
       "      <td>0.50000</td>\n",
       "    </tr>\n",
       "    <tr>\n",
       "      <th>75%</th>\n",
       "      <td>1.163295</td>\n",
       "      <td>1.307904</td>\n",
       "      <td>1.028340</td>\n",
       "      <td>0.834317</td>\n",
       "      <td>1.198270</td>\n",
       "      <td>1.123060</td>\n",
       "      <td>1.134852</td>\n",
       "      <td>1.283156</td>\n",
       "      <td>1.383173</td>\n",
       "      <td>1.504832</td>\n",
       "      <td>1.00000</td>\n",
       "    </tr>\n",
       "    <tr>\n",
       "      <th>max</th>\n",
       "      <td>1.721779</td>\n",
       "      <td>1.833757</td>\n",
       "      <td>1.722725</td>\n",
       "      <td>1.634884</td>\n",
       "      <td>1.650050</td>\n",
       "      <td>1.666902</td>\n",
       "      <td>1.713342</td>\n",
       "      <td>1.785420</td>\n",
       "      <td>1.885690</td>\n",
       "      <td>1.893950</td>\n",
       "      <td>1.00000</td>\n",
       "    </tr>\n",
       "  </tbody>\n",
       "</table>\n",
       "</div>"
      ],
      "text/plain": [
       "               WTT          PTI          EQW          SBI          LQE  \\\n",
       "count  1000.000000  1000.000000  1000.000000  1000.000000  1000.000000   \n",
       "mean      0.949682     1.114303     0.834127     0.682099     1.032336   \n",
       "std       0.289635     0.257085     0.291554     0.229645     0.243413   \n",
       "min       0.174412     0.441398     0.170924     0.045027     0.315307   \n",
       "25%       0.742358     0.942071     0.615451     0.515010     0.870855   \n",
       "50%       0.940475     1.118486     0.813264     0.676835     1.035824   \n",
       "75%       1.163295     1.307904     1.028340     0.834317     1.198270   \n",
       "max       1.721779     1.833757     1.722725     1.634884     1.650050   \n",
       "\n",
       "               QWG          FDJ          PJF          HQE          NXJ  \\\n",
       "count  1000.000000  1000.000000  1000.000000  1000.000000  1000.000000   \n",
       "mean      0.943534     0.963422     1.071960     1.158251     1.362725   \n",
       "std       0.256121     0.255118     0.288982     0.293738     0.204225   \n",
       "min       0.262389     0.295228     0.299476     0.365157     0.639693   \n",
       "25%       0.761064     0.784407     0.866306     0.934340     1.222623   \n",
       "50%       0.941502     0.945333     1.065500     1.165556     1.375368   \n",
       "75%       1.123060     1.134852     1.283156     1.383173     1.504832   \n",
       "max       1.666902     1.713342     1.785420     1.885690     1.893950   \n",
       "\n",
       "       TARGET CLASS  \n",
       "count    1000.00000  \n",
       "mean        0.50000  \n",
       "std         0.50025  \n",
       "min         0.00000  \n",
       "25%         0.00000  \n",
       "50%         0.50000  \n",
       "75%         1.00000  \n",
       "max         1.00000  "
      ]
     },
     "execution_count": 4,
     "metadata": {},
     "output_type": "execute_result"
    }
   ],
   "source": [
    "dataset.describe()"
   ]
  },
  {
   "cell_type": "code",
   "execution_count": 5,
   "id": "ab35789b",
   "metadata": {},
   "outputs": [],
   "source": [
    "# scaled data - feature scaling is mandatory"
   ]
  },
  {
   "cell_type": "code",
   "execution_count": 6,
   "id": "c50f0194",
   "metadata": {},
   "outputs": [
    {
     "data": {
      "text/plain": [
       "TARGET CLASS\n",
       "1    500\n",
       "0    500\n",
       "Name: count, dtype: int64"
      ]
     },
     "execution_count": 6,
     "metadata": {},
     "output_type": "execute_result"
    }
   ],
   "source": [
    "dataset['TARGET CLASS'].value_counts()"
   ]
  },
  {
   "cell_type": "code",
   "execution_count": 7,
   "id": "e8a92997",
   "metadata": {},
   "outputs": [],
   "source": [
    "# Balanced data "
   ]
  },
  {
   "cell_type": "code",
   "execution_count": 8,
   "id": "ca3be1a0",
   "metadata": {},
   "outputs": [],
   "source": [
    "#split the data into x and y \n",
    "x = dataset.iloc[:,:-1]\n",
    "y = dataset.iloc[:,-1]"
   ]
  },
  {
   "cell_type": "code",
   "execution_count": 9,
   "id": "79379efe",
   "metadata": {},
   "outputs": [
    {
     "data": {
      "text/html": [
       "<div>\n",
       "<style scoped>\n",
       "    .dataframe tbody tr th:only-of-type {\n",
       "        vertical-align: middle;\n",
       "    }\n",
       "\n",
       "    .dataframe tbody tr th {\n",
       "        vertical-align: top;\n",
       "    }\n",
       "\n",
       "    .dataframe thead th {\n",
       "        text-align: right;\n",
       "    }\n",
       "</style>\n",
       "<table border=\"1\" class=\"dataframe\">\n",
       "  <thead>\n",
       "    <tr style=\"text-align: right;\">\n",
       "      <th></th>\n",
       "      <th>WTT</th>\n",
       "      <th>PTI</th>\n",
       "      <th>EQW</th>\n",
       "      <th>SBI</th>\n",
       "      <th>LQE</th>\n",
       "      <th>QWG</th>\n",
       "      <th>FDJ</th>\n",
       "      <th>PJF</th>\n",
       "      <th>HQE</th>\n",
       "      <th>NXJ</th>\n",
       "    </tr>\n",
       "  </thead>\n",
       "  <tbody>\n",
       "    <tr>\n",
       "      <th>0</th>\n",
       "      <td>0.913917</td>\n",
       "      <td>1.162073</td>\n",
       "      <td>0.567946</td>\n",
       "      <td>0.755464</td>\n",
       "      <td>0.780862</td>\n",
       "      <td>0.352608</td>\n",
       "      <td>0.759697</td>\n",
       "      <td>0.643798</td>\n",
       "      <td>0.879422</td>\n",
       "      <td>1.231409</td>\n",
       "    </tr>\n",
       "    <tr>\n",
       "      <th>1</th>\n",
       "      <td>0.635632</td>\n",
       "      <td>1.003722</td>\n",
       "      <td>0.535342</td>\n",
       "      <td>0.825645</td>\n",
       "      <td>0.924109</td>\n",
       "      <td>0.648450</td>\n",
       "      <td>0.675334</td>\n",
       "      <td>1.013546</td>\n",
       "      <td>0.621552</td>\n",
       "      <td>1.492702</td>\n",
       "    </tr>\n",
       "    <tr>\n",
       "      <th>2</th>\n",
       "      <td>0.721360</td>\n",
       "      <td>1.201493</td>\n",
       "      <td>0.921990</td>\n",
       "      <td>0.855595</td>\n",
       "      <td>1.526629</td>\n",
       "      <td>0.720781</td>\n",
       "      <td>1.626351</td>\n",
       "      <td>1.154483</td>\n",
       "      <td>0.957877</td>\n",
       "      <td>1.285597</td>\n",
       "    </tr>\n",
       "    <tr>\n",
       "      <th>3</th>\n",
       "      <td>1.234204</td>\n",
       "      <td>1.386726</td>\n",
       "      <td>0.653046</td>\n",
       "      <td>0.825624</td>\n",
       "      <td>1.142504</td>\n",
       "      <td>0.875128</td>\n",
       "      <td>1.409708</td>\n",
       "      <td>1.380003</td>\n",
       "      <td>1.522692</td>\n",
       "      <td>1.153093</td>\n",
       "    </tr>\n",
       "    <tr>\n",
       "      <th>4</th>\n",
       "      <td>1.279491</td>\n",
       "      <td>0.949750</td>\n",
       "      <td>0.627280</td>\n",
       "      <td>0.668976</td>\n",
       "      <td>1.232537</td>\n",
       "      <td>0.703727</td>\n",
       "      <td>1.115596</td>\n",
       "      <td>0.646691</td>\n",
       "      <td>1.463812</td>\n",
       "      <td>1.419167</td>\n",
       "    </tr>\n",
       "  </tbody>\n",
       "</table>\n",
       "</div>"
      ],
      "text/plain": [
       "        WTT       PTI       EQW       SBI       LQE       QWG       FDJ  \\\n",
       "0  0.913917  1.162073  0.567946  0.755464  0.780862  0.352608  0.759697   \n",
       "1  0.635632  1.003722  0.535342  0.825645  0.924109  0.648450  0.675334   \n",
       "2  0.721360  1.201493  0.921990  0.855595  1.526629  0.720781  1.626351   \n",
       "3  1.234204  1.386726  0.653046  0.825624  1.142504  0.875128  1.409708   \n",
       "4  1.279491  0.949750  0.627280  0.668976  1.232537  0.703727  1.115596   \n",
       "\n",
       "        PJF       HQE       NXJ  \n",
       "0  0.643798  0.879422  1.231409  \n",
       "1  1.013546  0.621552  1.492702  \n",
       "2  1.154483  0.957877  1.285597  \n",
       "3  1.380003  1.522692  1.153093  \n",
       "4  0.646691  1.463812  1.419167  "
      ]
     },
     "execution_count": 9,
     "metadata": {},
     "output_type": "execute_result"
    }
   ],
   "source": [
    "x.head()"
   ]
  },
  {
   "cell_type": "code",
   "execution_count": 10,
   "id": "0693b81a",
   "metadata": {},
   "outputs": [
    {
     "data": {
      "text/plain": [
       "0    1\n",
       "1    0\n",
       "2    0\n",
       "3    1\n",
       "4    1\n",
       "Name: TARGET CLASS, dtype: int64"
      ]
     },
     "execution_count": 10,
     "metadata": {},
     "output_type": "execute_result"
    }
   ],
   "source": [
    "y.head()"
   ]
  },
  {
   "cell_type": "code",
   "execution_count": 11,
   "id": "3c67d7a4",
   "metadata": {},
   "outputs": [],
   "source": [
    "# split the data into train and test\n",
    "from sklearn.model_selection import train_test_split\n",
    "x_train ,x_test ,y_train , y_test = train_test_split(x , y , test_size =0.25 ,random_state = 1 , stratify = y)"
   ]
  },
  {
   "cell_type": "markdown",
   "id": "7d26cb14",
   "metadata": {},
   "source": [
    "# building KNN model"
   ]
  },
  {
   "cell_type": "code",
   "execution_count": 12,
   "id": "7a4620a4",
   "metadata": {},
   "outputs": [],
   "source": [
    "from sklearn.neighbors import KNeighborsClassifier"
   ]
  },
  {
   "cell_type": "markdown",
   "id": "32cca22f",
   "metadata": {},
   "source": [
    "# select the best K value to decide 'n_neighbours' basis error_rate"
   ]
  },
  {
   "cell_type": "code",
   "execution_count": 13,
   "id": "f7025dee",
   "metadata": {},
   "outputs": [],
   "source": [
    "error_rate = []"
   ]
  },
  {
   "cell_type": "code",
   "execution_count": 14,
   "id": "b8b8ee0d",
   "metadata": {},
   "outputs": [],
   "source": [
    "for i in range(1,30):\n",
    "    knn = KNeighborsClassifier(n_neighbors = i)\n",
    "    knn.fit(x_train , y_train)\n",
    "    y_pred = knn.predict(x_test)\n",
    "    error_rate.append(np.mean(y_pred != y_test))"
   ]
  },
  {
   "cell_type": "code",
   "execution_count": 15,
   "id": "1ec776a9",
   "metadata": {},
   "outputs": [
    {
     "data": {
      "text/plain": [
       "[0.096,\n",
       " 0.08,\n",
       " 0.06,\n",
       " 0.052,\n",
       " 0.056,\n",
       " 0.048,\n",
       " 0.052,\n",
       " 0.048,\n",
       " 0.06,\n",
       " 0.048,\n",
       " 0.048,\n",
       " 0.048,\n",
       " 0.06,\n",
       " 0.052,\n",
       " 0.056,\n",
       " 0.052,\n",
       " 0.06,\n",
       " 0.056,\n",
       " 0.064,\n",
       " 0.056,\n",
       " 0.052,\n",
       " 0.044,\n",
       " 0.052,\n",
       " 0.052,\n",
       " 0.052,\n",
       " 0.048,\n",
       " 0.048,\n",
       " 0.048,\n",
       " 0.044]"
      ]
     },
     "execution_count": 15,
     "metadata": {},
     "output_type": "execute_result"
    }
   ],
   "source": [
    "error_rate"
   ]
  },
  {
   "cell_type": "code",
   "execution_count": 16,
   "id": "dfe5b567",
   "metadata": {},
   "outputs": [
    {
     "data": {
      "image/png": "[encoded data removed]",
      "text/plain": [
       "<Figure size 1600x1600 with 1 Axes>"
      ]
     },
     "metadata": {},
     "output_type": "display_data"
    }
   ],
   "source": [
    "plt.figure(figsize = (16,16))\n",
    "plt.plot(range(1,30) , error_rate ,color = 'red' , linestyle = 'dashed' ,marker = 'o' , markersize = 12 , markerfacecolor = 'blue')\n",
    "plt.title('Error rate vs k value')\n",
    "plt.xlabel('k-value')\n",
    "plt.ylabel('error rate')\n",
    "plt.show()"
   ]
  },
  {
   "cell_type": "markdown",
   "id": "74a1ec39",
   "metadata": {},
   "source": [
    "# lower the error rate better the model\n",
    "# 22 has low error rate"
   ]
  },
  {
   "cell_type": "code",
   "execution_count": 17,
   "id": "ad92f7ab",
   "metadata": {},
   "outputs": [],
   "source": [
    "knn = KNeighborsClassifier(n_neighbors = 22)\n",
    "knn.fit(x_train , y_train)\n",
    "y_pred_train = knn.predict(x_train)\n",
    "y_pred_test = knn.predict(x_test)"
   ]
  },
  {
   "cell_type": "code",
   "execution_count": 18,
   "id": "4faf93dc",
   "metadata": {},
   "outputs": [],
   "source": [
    "# evalurate the model\n",
    "from sklearn.metrics import confusion_matrix , classification_report , accuracy_score"
   ]
  },
  {
   "cell_type": "code",
   "execution_count": 19,
   "id": "caf5f7b3",
   "metadata": {},
   "outputs": [
    {
     "name": "stdout",
     "output_type": "stream",
     "text": [
      "[[348  27]\n",
      " [ 20 355]]\n",
      "[[115  10]\n",
      " [  1 124]]\n"
     ]
    }
   ],
   "source": [
    "print(confusion_matrix(y_train ,y_pred_train))\n",
    "print(confusion_matrix(y_test ,y_pred_test))"
   ]
  },
  {
   "cell_type": "code",
   "execution_count": 20,
   "id": "539ff808",
   "metadata": {},
   "outputs": [
    {
     "name": "stdout",
     "output_type": "stream",
     "text": [
      "              precision    recall  f1-score   support\n",
      "\n",
      "           0       0.95      0.93      0.94       375\n",
      "           1       0.93      0.95      0.94       375\n",
      "\n",
      "    accuracy                           0.94       750\n",
      "   macro avg       0.94      0.94      0.94       750\n",
      "weighted avg       0.94      0.94      0.94       750\n",
      "\n",
      "              precision    recall  f1-score   support\n",
      "\n",
      "           0       0.99      0.92      0.95       125\n",
      "           1       0.93      0.99      0.96       125\n",
      "\n",
      "    accuracy                           0.96       250\n",
      "   macro avg       0.96      0.96      0.96       250\n",
      "weighted avg       0.96      0.96      0.96       250\n",
      "\n"
     ]
    }
   ],
   "source": [
    "print(classification_report(y_train ,y_pred_train))\n",
    "print(classification_report(y_test ,y_pred_test))"
   ]
  },
  {
   "cell_type": "code",
   "execution_count": 21,
   "id": "e1703ebf",
   "metadata": {},
   "outputs": [
    {
     "name": "stdout",
     "output_type": "stream",
     "text": [
      "0.9373333333333334\n",
      "0.956\n"
     ]
    }
   ],
   "source": [
    "print(accuracy_score(y_train ,y_pred_train))\n",
    "print(accuracy_score(y_test ,y_pred_test))"
   ]
  },
  {
   "cell_type": "markdown",
   "id": "bbea0424",
   "metadata": {},
   "source": [
    "# cross validation"
   ]
  },
  {
   "cell_type": "code",
   "execution_count": 22,
   "id": "447f53d8",
   "metadata": {},
   "outputs": [],
   "source": [
    "from sklearn.model_selection import cross_val_score\n"
   ]
  },
  {
   "cell_type": "code",
   "execution_count": 23,
   "id": "21e0131f",
   "metadata": {},
   "outputs": [],
   "source": [
    "training_accuracy = cross_val_score(knn , x_train ,y_train , cv = 10)\n",
    "testing_accuracy = cross_val_score(knn , x_test ,y_test , cv = 10)"
   ]
  },
  {
   "cell_type": "code",
   "execution_count": 24,
   "id": "ef5939b6",
   "metadata": {},
   "outputs": [
    {
     "name": "stdout",
     "output_type": "stream",
     "text": [
      "[0.97333333 0.94666667 0.93333333 0.93333333 0.82666667 0.97333333\n",
      " 0.94666667 0.90666667 0.93333333 0.93333333]\n",
      "0.9306666666666666\n",
      "0.9733333333333334\n"
     ]
    }
   ],
   "source": [
    "print(training_accuracy)\n",
    "print(training_accuracy.mean())\n",
    "print(training_accuracy.max())"
   ]
  },
  {
   "cell_type": "code",
   "execution_count": 26,
   "id": "41a99597",
   "metadata": {},
   "outputs": [
    {
     "name": "stdout",
     "output_type": "stream",
     "text": [
      "[0.96 1.   1.   0.96 0.96 0.96 0.96 0.96 0.88 0.96]\n",
      "0.9600000000000002\n",
      "1.0\n"
     ]
    }
   ],
   "source": [
    "print(testing_accuracy)\n",
    "print(testing_accuracy.mean())\n",
    "print(testing_accuracy.max())"
   ]
  },
  {
   "cell_type": "code",
   "execution_count": 27,
   "id": "bba1d815",
   "metadata": {},
   "outputs": [
    {
     "data": {
      "text/plain": [
       "'C:\\\\Users\\\\Mohan\\\\Python_Practice\\\\stats and ml'"
      ]
     },
     "execution_count": 27,
     "metadata": {},
     "output_type": "execute_result"
    }
   ],
   "source": [
    "pwd"
   ]
  },
  {
   "cell_type": "code",
   "execution_count": 1,
   "id": "cf3bfbee",
   "metadata": {},
   "outputs": [
    {
     "ename": "ImportError",
     "evalue": "cannot import name 'adaboost' from 'sklearn.ensemble' (C:\\Users\\Mohan\\anaconda3\\lib\\site-packages\\sklearn\\ensemble\\__init__.py)",
     "output_type": "error",
     "traceback": [
      "\u001b[1;31m---------------------------------------------------------------------------\u001b[0m",
      "\u001b[1;31mImportError\u001b[0m                               Traceback (most recent call last)",
      "\u001b[1;32m~\\AppData\\Local\\Temp\\ipykernel_7700\\1323119482.py\u001b[0m in \u001b[0;36m<module>\u001b[1;34m\u001b[0m\n\u001b[1;32m----> 1\u001b[1;33m \u001b[1;32mfrom\u001b[0m \u001b[0msklearn\u001b[0m\u001b[1;33m.\u001b[0m\u001b[0mensemble\u001b[0m \u001b[1;32mimport\u001b[0m \u001b[0madaboost\u001b[0m\u001b[1;33m,\u001b[0m \u001b[0mGDBoosting\u001b[0m\u001b[1;33m\u001b[0m\u001b[1;33m\u001b[0m\u001b[0m\n\u001b[0m",
      "\u001b[1;31mImportError\u001b[0m: cannot import name 'adaboost' from 'sklearn.ensemble' (C:\\Users\\Mohan\\anaconda3\\lib\\site-packages\\sklearn\\ensemble\\__init__.py)"
     ]
    }
   ],
   "source": [
    "from sklearn.ensemble import adaboost, GDBoosting"
   ]
  },
  {
   "cell_type": "code",
   "execution_count": 2,
   "id": "f8180a96",
   "metadata": {},
   "outputs": [
    {
     "ename": "NameError",
     "evalue": "name 'np' is not defined",
     "output_type": "error",
     "traceback": [
      "\u001b[1;31m---------------------------------------------------------------------------\u001b[0m",
      "\u001b[1;31mNameError\u001b[0m                                 Traceback (most recent call last)",
      "\u001b[1;32m~\\AppData\\Local\\Temp\\ipykernel_7700\\1539537659.py\u001b[0m in \u001b[0;36m<module>\u001b[1;34m\u001b[0m\n\u001b[1;32m----> 1\u001b[1;33m \u001b[0mnp\u001b[0m\u001b[1;33m.\u001b[0m\u001b[0mfillna\u001b[0m\u001b[1;33m(\u001b[0m\u001b[1;33m)\u001b[0m\u001b[1;33m\u001b[0m\u001b[1;33m\u001b[0m\u001b[0m\n\u001b[0m",
      "\u001b[1;31mNameError\u001b[0m: name 'np' is not defined"
     ]
    }
   ],
   "source": [
    "np.fillna()"
   ]
  },
  {
   "cell_type": "code",
   "execution_count": null,
   "id": "222c7df2",
   "metadata": {},
   "outputs": [],
   "source": [
    "np.fillna()"
   ]
  }
 ],
 "metadata": {
  "kernelspec": {
   "display_name": "Python 3 (ipykernel)",
   "language": "python",
   "name": "python3"
  },
  "language_info": {
   "codemirror_mode": {
    "name": "ipython",
    "version": 3
   },
   "file_extension": ".py",
   "mimetype": "text/x-python",
   "name": "python",
   "nbconvert_exporter": "python",
   "pygments_lexer": "ipython3",
   "version": "3.9.13"
  }
 },
 "nbformat": 4,
 "nbformat_minor": 5
}
